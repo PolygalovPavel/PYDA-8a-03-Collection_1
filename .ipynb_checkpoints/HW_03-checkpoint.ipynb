{
 "cells": [
  {
   "cell_type": "markdown",
   "metadata": {},
   "source": [
    "**Задача 1**. Дано слово из латинских букв. Напишите скрипт, который выводит на экран букву из середины слова (если число букв нечетное). Если букв четное число, то на экран выводятся две буквы из середины.  \n",
    "\n",
    "Пример: для 'test' должно выводится 'es', для 'testing' - 't'"
   ]
  },
  {
   "cell_type": "code",
   "execution_count": null,
   "metadata": {},
   "outputs": [],
   "source": [
    "text = input('Введите слово: ')\n",
    "lenth = len(text)/2\n",
    "print(text[int(round(lenth-0.6)):int(round(lenth+0.6))])"
   ]
  },
  {
   "cell_type": "markdown",
   "metadata": {},
   "source": [
    "**Задача 2**. Мы делаем MVP dating-сервиса, и у нас есть список парней и девушек (их число может варьироваться):"
   ]
  },
  {
   "cell_type": "code",
   "execution_count": null,
   "metadata": {},
   "outputs": [],
   "source": [
    "boys = ['Peter', 'Alex', 'John', 'Arthur', 'Richard']\n",
    "girls = ['Kate', 'Liza', 'Kira', 'Emma', 'Trisha']"
   ]
  },
  {
   "cell_type": "markdown",
   "metadata": {},
   "source": [
    "Выдвигаем гипотезу: лучшие рекомендации мы получим, если просто отсортируем имена по алфавиту и познакомим людей с одинаковыми индексами после сортировки! \"Познакомить\" пары нам поможет функция zip, а в цикле распакуем zip-объект и выведем информацию в виде:\n",
    "\n",
    "Идеальные пары:  \n",
    "Alex и Emma  \n",
    "Arthur и Kate  \n",
    "John и Kira  \n",
    "Peter и Liza  \n",
    "Richard и Trisha  "
   ]
  },
  {
   "cell_type": "markdown",
   "metadata": {},
   "source": [
    "**Внимание! Если количество людей в списках будет не совпадать, то мы никого знакомить не будет и выведем пользователю предупреждение, что кто-то может остаться без пары!**"
   ]
  },
  {
   "cell_type": "code",
   "execution_count": null,
   "metadata": {},
   "outputs": [],
   "source": [
    "# Проверка на наличие данных\n",
    "check = 0\n",
    "if 'boys' not in locals():\n",
    "    print(\"Список boys не обнаружен!\")\n",
    "    check = 1\n",
    "if 'girls' not in locals():\n",
    "    print(\"Список girls не обнаружен!\")\n",
    "    check = 1\n",
    "    \n",
    "if check == 0:\n",
    "    \n",
    "    # Решение\n",
    "    boys = sorted(boys)\n",
    "    girls = sorted(girls)\n",
    "    mvp = list(zip(boys, girls))\n",
    "    print('Идеальные пары:')\n",
    "    for couple in mvp:\n",
    "        print(f\"{couple[0]} и {couple[1]}\")\n",
    "    \n",
    "    # Предупреждение о не парности данных\n",
    "    if len(boys) != len(girls):\n",
    "        print('Предупреждение: кто-то может остаться без пары!')"
   ]
  },
  {
   "cell_type": "markdown",
   "metadata": {},
   "source": [
    "**Задача 3**. У нас есть список, содержащий информацию о среднедневной температуре в Фаренгейтах за недельный период по странам.\n",
    "Необходимо написать код, который рассчитает среднюю температуру за неделю в Цельсиях для каждой страны."
   ]
  },
  {
   "cell_type": "code",
   "execution_count": null,
   "metadata": {},
   "outputs": [],
   "source": [
    "countries_temperature = [\n",
    " ['Thailand', [75.2, 77, 78.8, 73.4, 68, 75.2, 77]],\n",
    " ['Germany', [57.2, 55.4, 59, 59, 53.6, 55.4, 57.2]],\n",
    " ['Russia', [35.6, 37.4, 39.2, 41, 42.8, 39.2, 35.6]],\n",
    " ['Poland', [50, 50, 53.6, 57.2, 55.4, 55.4, 51.8]],\n",
    "]"
   ]
  },
  {
   "cell_type": "code",
   "execution_count": null,
   "metadata": {},
   "outputs": [],
   "source": [
    "# Проверка на наличие данных\n",
    "check = 0\n",
    "if 'countries_temperature' not in locals():\n",
    "    print(\"Список не обнаружен!\")\n",
    "    check = 1\n",
    "if check == 0:\n",
    "    \n",
    "    # Решение\n",
    "    for countries in countries_temperature:\n",
    "        temperature = round(sum(countries[1])/len(countries[1]),2)\n",
    "        print(f\"Среднедневная температура в {countries[0]} составляет {temperature} Фаренгейта\")"
   ]
  },
  {
   "cell_type": "markdown",
   "metadata": {},
   "source": [
    "**Задача 4.** Дан поток логов по количеству просмотренных страниц для каждого пользователя. Список отсортирован по ID пользователя. Вам необходимо написать алгоритм, который считает среднее значение просмотров на пользователя. \n",
    "Т. е. надо посчитать отношение суммы всех просмотров к количеству уникальных пользователей."
   ]
  },
  {
   "cell_type": "code",
   "execution_count": null,
   "metadata": {},
   "outputs": [],
   "source": [
    "stream = [\n",
    "    '2018-01-01,user1,3',\n",
    "    '2018-01-07,user1,4',\n",
    "    '2018-03-29,user1,1',\n",
    "    '2018-04-04,user1,13',\n",
    "    '2018-01-05,user2,7',\n",
    "    '2018-06-14,user3,4',\n",
    "    '2018-07-02,user3,10',\n",
    "    '2018-03-21,user4,19',\n",
    "    '2018-03-22,user4,4',\n",
    "    '2018-04-22,user4,8',\n",
    "    '2018-05-03,user4,9',\n",
    "    '2018-05-11,user4,11',\n",
    "]"
   ]
  },
  {
   "cell_type": "code",
   "execution_count": null,
   "metadata": {},
   "outputs": [],
   "source": [
    "# Проверка на наличие данных\n",
    "check = 0\n",
    "if 'stream' not in locals():\n",
    "    print(\"Список не обнаружен!\")\n",
    "    check = 1\n",
    "if check == 0:\n",
    "    \n",
    "    # Переменные\n",
    "    id_stream = []\n",
    "    count_stream = 0\n",
    "    min_date = stream[0][0:10]\n",
    "    max_date = stream[0][0:10]\n",
    "    \n",
    "    # Решение\n",
    "    for temp_list in stream:\n",
    "        temp_stream = temp_list.split(',')\n",
    "        count_stream += int(temp_stream[2])\n",
    "        min_date = min(min_date, temp_stream[0])\n",
    "        max_date = max(max_date, temp_stream[0])\n",
    "        if temp_stream[1] not in id_stream:\n",
    "            id_stream.append(temp_stream[1])\n",
    "    \n",
    "    # Вывод ответа\n",
    "    print(f\"Cреднее значение просмотров на пользователя = {count_stream/len(id_stream)}\")\n",
    "    # Справка\n",
    "    print(\"\")\n",
    "    print(f\"Для справки: \")\n",
    "    print(f\"анализируемый период: с {min_date} по {max_date};\")\n",
    "    print(f\"кол-во пользователей: {len(id_stream)};\")\n",
    "    print(f\"суммарное кол-во посещений: {count_stream} раз\")"
   ]
  },
  {
   "cell_type": "markdown",
   "metadata": {},
   "source": [
    "**Задача 5**. Дана статистика рекламных кампаний по дням. Напишите алгоритм, который по паре дата-кампания ищет значение численного столбца. \n",
    "Т. е. для даты '2018-01-01' и 'google' нужно получить число 25. \n",
    "Считайте, что все комбинации дата-кампания уникальны."
   ]
  },
  {
   "cell_type": "code",
   "execution_count": null,
   "metadata": {},
   "outputs": [],
   "source": [
    "stats = [\n",
    "    ['2018-01-01', 'google', 25],\n",
    "    ['2018-01-01', 'yandex', 65],\n",
    "    ['2018-01-01', 'market', 89],\n",
    "    ['2018-01-02', 'google', 574],\n",
    "    ['2018-01-02', 'yandex', 249],\n",
    "    ['2018-01-02', 'market', 994],\n",
    "    ['2018-01-03', 'google', 1843],\n",
    "    ['2018-01-03', 'yandex', 1327],\n",
    "    ['2018-01-03', 'market', 1764],\n",
    "]"
   ]
  },
  {
   "cell_type": "code",
   "execution_count": null,
   "metadata": {},
   "outputs": [],
   "source": [
    "# Проверка на наличие данных\n",
    "check = 0\n",
    "if 'stats' not in locals():\n",
    "    print(\"Список не обнаружен!\")\n",
    "    check = 1\n",
    "if check == 0:\n",
    "    \n",
    "    # Подготовка информации для пользователя\n",
    "    list_date = []\n",
    "    list_company = []\n",
    "    help_text_date = \"\"\n",
    "    help_text_company = \"\"\n",
    "    for temp_list in stats:\n",
    "        if temp_list[0] not in list_date:\n",
    "            list_date.append(temp_list[0])\n",
    "            help_text_date += (temp_list[0] + \", \")\n",
    "        if temp_list[1] not in list_company:\n",
    "            list_company.append(temp_list[1])\n",
    "            help_text_company += (temp_list[1] + \", \")    \n",
    "\n",
    "    # Ввод данных\n",
    "    print(f\"Доступные даты для ввода: {help_text_date[0:len(help_text_date)-2]}\")\n",
    "    input_date = input(\"Введите дату: \")\n",
    "    print(f\"Доступные компании для ввода: {help_text_company[0:len(help_text_company)-2]}\")\n",
    "    input_company = input(\"Введите компанию: \")\n",
    "\n",
    "    # Решение\n",
    "    for temp_list in stats:\n",
    "        if temp_list[0] == input_date and temp_list[1] == input_company:\n",
    "            print(f\"Статискика рекламной компании {input_company.capitalize()} на {input_date}: {temp_list[2]}\")"
   ]
  },
  {
   "cell_type": "markdown",
   "metadata": {},
   "source": [
    "**Задача 6**. Дан список вида:"
   ]
  },
  {
   "cell_type": "code",
   "execution_count": null,
   "metadata": {},
   "outputs": [],
   "source": [
    "data = [\n",
    "    [13, 25, 23, 34],\n",
    "    [45, 32, 44, 47],\n",
    "    [12, 33, 23, 95],\n",
    "    [13, 53, 34, 35]\n",
    "]"
   ]
  },
  {
   "cell_type": "markdown",
   "metadata": {},
   "source": [
    "Напишите код, который будет вычислять сумму элементов на диагонали. Т. е. 13+32+23+35.  \n",
    "Список может быть любой длины, но всегда является \"квадратным\" (количество элементов во вложенных списках равно их количеству)."
   ]
  },
  {
   "cell_type": "code",
   "execution_count": null,
   "metadata": {},
   "outputs": [],
   "source": [
    "lenth_width = 0\n",
    "check = 0\n",
    "\n",
    "# Проверка наличие данных и на квадрат\n",
    "if 'data' not in locals():\n",
    "    print(\"Список не обнаружен!\")\n",
    "    check = 1\n",
    "if check == 0:\n",
    "    lenth_height = len(data)\n",
    "    for temp_lenth_width in data:\n",
    "        lenth_width = max(lenth_width, len(temp_lenth_width))\n",
    "    if lenth_height != lenth_width:\n",
    "        print(\"Список не является квадратом!\")\n",
    "        check = 1\n",
    "\n",
    "# Решение\n",
    "if check == 0:\n",
    "    lenth_width = 0\n",
    "    sum_elements = 0\n",
    "    for point_height in data:\n",
    "        sum_elements += point_height[lenth_width] \n",
    "        lenth_width += 1\n",
    "    print(f\"Сумма элементов на диагонали = {sum_elements}\")"
   ]
  }
 ],
 "metadata": {
  "kernelspec": {
   "display_name": "Python 3",
   "language": "python",
   "name": "python3"
  },
  "language_info": {
   "codemirror_mode": {
    "name": "ipython",
    "version": 3
   },
   "file_extension": ".py",
   "mimetype": "text/x-python",
   "name": "python",
   "nbconvert_exporter": "python",
   "pygments_lexer": "ipython3",
   "version": "3.7.6"
  }
 },
 "nbformat": 4,
 "nbformat_minor": 2
}
